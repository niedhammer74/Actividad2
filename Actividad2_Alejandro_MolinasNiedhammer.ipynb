{
 "cells": [
  {
   "cell_type": "code",
   "execution_count": null,
   "id": "b3798653",
   "metadata": {},
   "outputs": [],
   "source": [
    "import random"
   ]
  },
  {
   "cell_type": "code",
   "execution_count": null,
   "id": "fd87828c",
   "metadata": {},
   "outputs": [],
   "source": [
    "print('Test')"
   ]
  },
  {
   "cell_type": "code",
   "execution_count": null,
   "id": "4383c82f",
   "metadata": {},
   "outputs": [],
   "source": [
    "print('Ejercicio 1')"
   ]
  },
  {
   "cell_type": "code",
   "execution_count": null,
   "id": "4369c292",
   "metadata": {},
   "outputs": [],
   "source": [
    "nota=0\n",
    "\n",
    "operaciones=['+','-','*']"
   ]
  },
  {
   "cell_type": "code",
   "execution_count": null,
   "id": "fdff9fb0",
   "metadata": {},
   "outputs": [],
   "source": [
    "num=random.randint(1,10)\n",
    "num2=random.randint(1,10)\n",
    "op=random.choice(operaciones)\n",
    "\n",
    "        \n",
    "respuesta1= eval(str(num) + op + str(num2))\n",
    "print('Resolver',num,op,num2)\n",
    "\n",
    "try:\n",
    "    a1=int(input('Respuesta:'))\n",
    "except ValueError:\n",
    "    print('Invalido')\n",
    "    a1=int(input('Respuesta:'))\n",
    "\n",
    "if a1==respuesta1:\n",
    "    nota=nota+1\n"
   ]
  },
  {
   "cell_type": "code",
   "execution_count": null,
   "id": "bbca198b",
   "metadata": {},
   "outputs": [],
   "source": [
    "print('Ejercicio 2')"
   ]
  },
  {
   "cell_type": "code",
   "execution_count": null,
   "id": "8a2d4f12",
   "metadata": {},
   "outputs": [],
   "source": [
    "num=random.randint(1,10)\n",
    "num2=random.randint(1,10)\n",
    "num3=random.randint(1,10)\n",
    "op=random.choice(operaciones)\n",
    "op2=random.choice(operaciones)\n",
    "\n",
    "respuesta2= eval(str(num) + op + str(num2) + op2 + str(num3))\n",
    "print('Resolver',num,op,num2,op2,num3)\n",
    "\n",
    "try:\n",
    "    a2=int(input('Respuesta:'))\n",
    "except ValueError:\n",
    "    print('Invalido')\n",
    "    a2=int(input('Respuesta:'))\n",
    "\n",
    "if a2==respuesta2:\n",
    "    nota=nota+1"
   ]
  },
  {
   "cell_type": "code",
   "execution_count": null,
   "id": "e418a5cd",
   "metadata": {},
   "outputs": [],
   "source": [
    "print('Ejercicio 3')"
   ]
  },
  {
   "cell_type": "code",
   "execution_count": null,
   "id": "732ed004",
   "metadata": {},
   "outputs": [],
   "source": [
    "num=random.randint(1,10)\n",
    "num2=random.randint(1,10)\n",
    "num3=random.randint(1,10)\n",
    "num4=random.randint(1,10)\n",
    "op=random.choice(operaciones)\n",
    "op2=random.choice(operaciones)\n",
    "op3=random.choice(operaciones)\n",
    "\n",
    "respuesta3= eval(str(num) + op + str(num2) + op2 + str(num3) + op3 + str(num4))\n",
    "print('Resolver',num,op,num2,op2,num3,op3,num4)\n",
    "\n",
    "try:\n",
    "    a3=int(input('Respuesta:'))\n",
    "except ValueError:\n",
    "    print('Invalido')\n",
    "    a3=int(input('Respuesta:'))\n",
    "\n",
    "if a3==respuesta3:\n",
    "    nota=nota+1"
   ]
  },
  {
   "cell_type": "code",
   "execution_count": null,
   "id": "5d5f1a49",
   "metadata": {},
   "outputs": [],
   "source": [
    "print('Ejercicio 4')"
   ]
  },
  {
   "cell_type": "code",
   "execution_count": null,
   "id": "8721a33e",
   "metadata": {},
   "outputs": [],
   "source": [
    "num=random.randint(30,100)\n",
    "num2=random.randint(2,10)\n",
    "\n",
    "respuesta4= int(num) * int(num2)\n",
    "print('Un coche va a',num,'km/h. ¿Cuantos kilometros recorre en',num2,'horas?')\n",
    "\n",
    "try:\n",
    "    a4=int(input('Respuesta:'))\n",
    "except ValueError:\n",
    "    print('Invalido')\n",
    "    a4=int(input('Respuesta:'))\n",
    "\n",
    "if a4==respuesta4:\n",
    "    nota=nota+1"
   ]
  },
  {
   "cell_type": "code",
   "execution_count": null,
   "id": "05387a8c",
   "metadata": {},
   "outputs": [],
   "source": [
    "print('Ejercicio 5')"
   ]
  },
  {
   "cell_type": "code",
   "execution_count": null,
   "id": "17b612c9",
   "metadata": {},
   "outputs": [],
   "source": [
    "num=random.randint(1000,10000)\n",
    "num2=random.randint(3,20)\n",
    "num3=random.randint(3,15)\n",
    "\n",
    "respuesta5= float(num) + float(num * num2 / 100) * float(num3)\n",
    "round(respuesta5, 2)\n",
    "print('Quiero invertir',num,'euros a un interes anual del',num2,'porciento. ¿Cuanto tendre en',num3,'años?')\n",
    "\n",
    "try:\n",
    "    a5=float(input('Respuesta:'))\n",
    "except ValueError:\n",
    "    print('Invalido')\n",
    "    a5=float(input('Respuesta:'))\n",
    "\n",
    "if a5==respuesta5:\n",
    "    nota=nota+1"
   ]
  },
  {
   "cell_type": "code",
   "execution_count": null,
   "id": "862dc650",
   "metadata": {},
   "outputs": [],
   "source": [
    "print('Ejercicio 6')"
   ]
  },
  {
   "cell_type": "code",
   "execution_count": null,
   "id": "1769484b",
   "metadata": {
    "scrolled": true
   },
   "outputs": [],
   "source": [
    "num=random.randint(0,7)\n",
    "num2=random.randint(0,7)\n",
    "num3=random.randint(0,7)\n",
    "num4=random.randint(0,7)\n",
    "num5=random.randint(0,7)\n",
    "num6=random.randint(0,7)\n",
    "num7=random.randint(0,7)\n",
    "num8=random.randint(0,7)\n",
    "num9=random.randint(0,7)\n",
    "\n",
    "respuesta6= (num * num5 * num9) + (num2 * num6 * num7) + (num4 * num8 * num3)\n",
    "print('Calular el determinante de la siguiente matriz: ')\n",
    "print('(',num,num2,num3,')')\n",
    "print('(',num4,num5,num6,')')\n",
    "print('(',num7,num8,num9,')')\n",
    "\n",
    "try:\n",
    "    a6=int(input('Respuesta:'))\n",
    "except ValueError:\n",
    "    print('Invalido')\n",
    "    a6=int(input('Respuesta:'))\n",
    "\n",
    "if a6==respuesta6:\n",
    "    nota=nota+1"
   ]
  },
  {
   "cell_type": "code",
   "execution_count": null,
   "id": "60133743",
   "metadata": {
    "scrolled": true
   },
   "outputs": [],
   "source": [
    "print('Ejercicio 7' )"
   ]
  },
  {
   "cell_type": "code",
   "execution_count": null,
   "id": "027ed6ac",
   "metadata": {},
   "outputs": [],
   "source": [
    "z=random.randint(1,10)\n",
    "\n",
    "respuesta7= (40-20)/2 * z + 60/3 \n",
    "print('Resolver')\n",
    "print(\"x '+' x '+' x = 60\")\n",
    "print(\"x '+' y '+' y = 40\")\n",
    "print(\"y '+' y '+' z =\",20+z)\n",
    "print(\"y '*' z '+' x = ?\")\n",
    "\n",
    "try:\n",
    "    a7=int(input('Respuesta:'))\n",
    "except ValueError:\n",
    "    print('Invalido')\n",
    "    a7=int(input('Respuesta:'))\n",
    "\n",
    "if a7==respuesta7:\n",
    "    nota=nota+1"
   ]
  },
  {
   "cell_type": "code",
   "execution_count": null,
   "id": "d62195f0",
   "metadata": {},
   "outputs": [],
   "source": [
    "print('Ejercicio 8' )"
   ]
  },
  {
   "cell_type": "code",
   "execution_count": null,
   "id": "bc012a09",
   "metadata": {},
   "outputs": [],
   "source": [
    "num=random.randint(1,100)\n",
    "print('Escribir',num,'en numeros romanos')\n",
    "\n",
    "valores=[100, 90, 50, 40, 10, 9, 5, 4, 1]\n",
    "letras=['C', 'XC', 'L', 'XL', 'X', 'IX', 'V', 'IV', 'I']\n",
    "pos=0\n",
    "respuesta8=''\n",
    "\n",
    "while num>0:\n",
    "    if valores[pos]<num or valores[pos]==num:\n",
    "        respuesta8=respuesta8+letras[pos]\n",
    "        num=num-valores[pos]\n",
    "    else:\n",
    "        pos=pos+1\n",
    "        \n",
    "a8=str(input('Respuesta:'))\n",
    "if a8==respuesta8:\n",
    "    nota=nota+1"
   ]
  },
  {
   "cell_type": "code",
   "execution_count": null,
   "id": "bf78549c",
   "metadata": {},
   "outputs": [],
   "source": [
    "print('Ejercicio 9' )"
   ]
  },
  {
   "cell_type": "code",
   "execution_count": null,
   "id": "1f570c03",
   "metadata": {},
   "outputs": [],
   "source": [
    "num=random.randint(1,10000)\n",
    "print('Escribir',num,'en base hexadecimal')\n",
    "\n",
    "a9=str(input('Respuesta:'))\n",
    "\n",
    "hexa = {1:'1',2:'2',3:'3',4:'4',5:'5',6:'6',7:'7',8:'8',9:'9',10:'A',11:'B',12:'C',13:'D',14:'E',15:'F'}\n",
    "\n",
    "respuesta9=''\n",
    "while num>0:\n",
    "    res = num%16\n",
    "    respuesta9 = hexa[res] + respuesta9\n",
    "    num=num//16\n",
    "    \n",
    "if a9==respuesta9:\n",
    "    nota=nota+1"
   ]
  },
  {
   "cell_type": "code",
   "execution_count": null,
   "id": "15ac2d0d",
   "metadata": {},
   "outputs": [],
   "source": [
    "print('Ejercicio 10' )"
   ]
  },
  {
   "cell_type": "code",
   "execution_count": null,
   "id": "b0c2f8ff",
   "metadata": {},
   "outputs": [],
   "source": [
    "num=random.randint(10,100)\n",
    "\n",
    "print('Escribir',num,'en base octal')\n",
    "\n",
    "respuesta10 = ''\n",
    "while num > 0:\n",
    "    res = num%8\n",
    "    num = num//8\n",
    "    respuesta10 = str(res) + respuesta10\n",
    "    \n",
    "a10=str(input('Respuesta:'))\n",
    "    \n",
    "if a10==respuesta10:\n",
    "    nota=nota+1\n"
   ]
  },
  {
   "cell_type": "code",
   "execution_count": null,
   "id": "de9632e9",
   "metadata": {},
   "outputs": [],
   "source": [
    "print('Su calificacion es:', nota ,'/ 10')\n",
    "if nota == 10:\n",
    "    print('Felicitaciones!')\n",
    "if nota >= 8 and nota < 10:\n",
    "    print('Buen trabajo!')\n",
    "if nota >= 5 and nota < 8:\n",
    "    print('Aprobado')\n",
    "if nota < 5:\n",
    "    print('Reprobado')\n",
    "    \n",
    "a = input('¿Desea revisar la respuesta de algun ejercicio?(Si/No)')\n",
    "\n",
    "while a=='Si' or a=='si':\n",
    "    respuestas = {'1':respuesta1,'2':respuesta2,'3':respuesta3,'4':respuesta4,'5':respuesta5,'6':respuesta6,'7':respuesta7,'8':respuesta8,'9':respuesta9,'10':respuesta10}\n",
    "    respuestas_user = {'1':a1,'2':a2,'3':a3,'4':a4,'5':a5,'6':a6,'7':a7,'8':a8,'9':a9,'10':a10}\n",
    "    ejercicio = input('¿De cual?(poner solo el numero)')\n",
    "    if ejercicio in respuestas:        \n",
    "        print('La respuesta de el Ejercicio', ejercicio, 'es:', respuestas[ejercicio]) \n",
    "        print('Tu has respondido:', respuestas_user[ejercicio])\n",
    "        if respuestas[ejercicio] == respuestas_user[ejercicio]:\n",
    "            print('Correcto')\n",
    "        else: \n",
    "            print('Incorrecto')\n",
    "        a = input('¿Desea revisar la respuesta de algun ejercicio?(Si)') \n",
    "    else:\n",
    "        print('Invalido')\n",
    "        a = input('¿Desea revisar la respuesta de algun ejercicio?(Si)')\n",
    "\n",
    "else:\n",
    "    print('Ha finalizado el Test.')\n",
    "\n"
   ]
  },
  {
   "cell_type": "code",
   "execution_count": null,
   "id": "0d73a1f3",
   "metadata": {},
   "outputs": [],
   "source": []
  },
  {
   "cell_type": "code",
   "execution_count": null,
   "id": "42a36fcc",
   "metadata": {},
   "outputs": [],
   "source": []
  },
  {
   "cell_type": "code",
   "execution_count": null,
   "id": "d4ea21bc",
   "metadata": {},
   "outputs": [],
   "source": []
  }
 ],
 "metadata": {
  "kernelspec": {
   "display_name": "Python 3 (ipykernel)",
   "language": "python",
   "name": "python3"
  },
  "language_info": {
   "codemirror_mode": {
    "name": "ipython",
    "version": 3
   },
   "file_extension": ".py",
   "mimetype": "text/x-python",
   "name": "python",
   "nbconvert_exporter": "python",
   "pygments_lexer": "ipython3",
   "version": "3.9.13"
  }
 },
 "nbformat": 4,
 "nbformat_minor": 5
}
